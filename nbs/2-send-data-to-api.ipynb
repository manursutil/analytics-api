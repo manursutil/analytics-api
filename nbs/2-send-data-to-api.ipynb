{
 "cells": [
  {
   "cell_type": "code",
   "execution_count": 2,
   "id": "a0aa13a5",
   "metadata": {},
   "outputs": [],
   "source": [
    "import requests"
   ]
  },
  {
   "cell_type": "code",
   "execution_count": 3,
   "id": "3b416d06",
   "metadata": {},
   "outputs": [
    {
     "data": {
      "text/plain": [
       "'http://localhost:8002/api/events/'"
      ]
     },
     "execution_count": 3,
     "metadata": {},
     "output_type": "execute_result"
    }
   ],
   "source": [
    "path = \"/api/events/\"\n",
    "base_url = \"http://localhost:8002\"\n",
    "endpoint = f\"{base_url}{path}\"\n",
    "endpoint"
   ]
  },
  {
   "cell_type": "code",
   "execution_count": 4,
   "id": "3d26c71d",
   "metadata": {},
   "outputs": [],
   "source": [
    "data = {\"page\": \"/test+\"}"
   ]
  },
  {
   "cell_type": "code",
   "execution_count": 5,
   "id": "9ac25eed",
   "metadata": {},
   "outputs": [],
   "source": [
    "import json"
   ]
  },
  {
   "cell_type": "code",
   "execution_count": 6,
   "id": "3ec53aa2",
   "metadata": {},
   "outputs": [
    {
     "data": {
      "text/plain": [
       "'{\"page\": \"/test+\"}'"
      ]
     },
     "execution_count": 6,
     "metadata": {},
     "output_type": "execute_result"
    }
   ],
   "source": [
    "json.dumps(data)"
   ]
  },
  {
   "cell_type": "code",
   "execution_count": 7,
   "id": "c5121ff2",
   "metadata": {},
   "outputs": [
    {
     "name": "stdout",
     "output_type": "stream",
     "text": [
      "{'date': 'Tue, 08 Jul 2025 19:08:44 GMT', 'server': 'uvicorn', 'content-length': '34', 'content-type': 'application/json'}\n",
      "True\n",
      "{'results': [{'id': 123}], 'count': 1} <class 'dict'>\n"
     ]
    }
   ],
   "source": [
    "headers = {\n",
    "    \"Content-Type\": \"application/json\"\n",
    "}\n",
    "\n",
    "response = requests.post(endpoint, data=json.dumps(data), headers=headers)\n",
    "print(response.headers)\n",
    "print(response.ok)\n",
    "if response.ok:\n",
    "    data = response.json()\n",
    "    print(data, type(data))\n",
    "else:\n",
    "    print(response.text)"
   ]
  },
  {
   "cell_type": "code",
   "execution_count": 8,
   "id": "b9da4fa1",
   "metadata": {},
   "outputs": [],
   "source": [
    "detail_path = \"/api/events/12\"\n",
    "detail_endpoint = f\"{base_url}{detail_path}\""
   ]
  },
  {
   "cell_type": "code",
   "execution_count": 11,
   "id": "0154e044",
   "metadata": {},
   "outputs": [
    {
     "name": "stdout",
     "output_type": "stream",
     "text": [
      "{'date': 'Tue, 08 Jul 2025 19:09:44 GMT', 'server': 'uvicorn', 'content-length': '9', 'content-type': 'application/json'}\n",
      "True\n",
      "{'id': 12} <class 'dict'>\n"
     ]
    }
   ],
   "source": [
    "headers = {\n",
    "    \"Content-Type\": \"application/json\"\n",
    "}\n",
    "\n",
    "response = requests.put(detail_endpoint, json={\"description\": \"hello world\"})\n",
    "print(response.headers)\n",
    "print(response.ok)\n",
    "if response.ok:\n",
    "    data = response.json()\n",
    "    print(data, type(data))\n",
    "else:\n",
    "    print(response.text)"
   ]
  }
 ],
 "metadata": {
  "kernelspec": {
   "display_name": "venv",
   "language": "python",
   "name": "python3"
  },
  "language_info": {
   "codemirror_mode": {
    "name": "ipython",
    "version": 3
   },
   "file_extension": ".py",
   "mimetype": "text/x-python",
   "name": "python",
   "nbconvert_exporter": "python",
   "pygments_lexer": "ipython3",
   "version": "3.13.5"
  }
 },
 "nbformat": 4,
 "nbformat_minor": 5
}
